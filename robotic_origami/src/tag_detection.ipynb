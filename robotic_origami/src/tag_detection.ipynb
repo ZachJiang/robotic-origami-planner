{
 "cells": [
  {
   "cell_type": "code",
   "execution_count": 1,
   "metadata": {},
   "outputs": [],
   "source": [
    "#!/usr/bin/env python\n",
    "import sys\n",
    "import copy\n",
    "#Opencv\n",
    "import cv2 as cv\n",
    "#from cv_bridge import CvBridge, CvBridgeError\n",
    "import numpy as np\n",
    "from numpy import mat\n",
    "# ROS packages\n",
    "import rospy\n",
    "import tf\n",
    "import time\n",
    "import logging\n",
    "#Robotiq package\n",
    "from robotiq_ft_sensor.msg import ft_sensor\n",
    "from robotiq_2f_gripper_control.msg import _Robotiq2FGripper_robot_output as outputMsg\n",
    "from robotiq_2f_gripper_control.msg import _Robotiq2FGripper_robot_input  as inputMsg\n",
    "from robotiq_ft_sensor.msg import ft_sensor\n",
    "# from robotiq_c_model_control.msg import _CModel_robot_output as outputMsg\n",
    "# ROS Image message\n",
    "import geometry_msgs.msg\n",
    "from std_msgs.msg import Int32\n",
    "from geometry_msgs.msg import PoseStamped, Pose\n",
    "from geometry_msgs.msg import PoseWithCovariance\n",
    "from geometry_msgs.msg import WrenchStamped\n",
    "from sensor_msgs.msg import Image\n",
    "from std_msgs.msg import String, Empty, UInt16\n",
    "#Math\n",
    "import math\n",
    "from math import pi, sin, cos, atan2\n",
    "from math import sqrt, pi, acos, sin, cos\n",
    "import math3d as m3d\n",
    "#UR Control\n",
    "import urx\n",
    "from apriltag_ros.msg import AprilTagDetection, AprilTagDetectionArray\n",
    "\n",
    "from tf.transformations import euler_from_quaternion, quaternion_from_euler\n",
    "from a4_paper_turning.msg import pos\n",
    "import actionlib\n",
    "import xlwt\n",
    "\n",
    "from robotiq_2f_gripper_msgs.msg import CommandRobotiqGripperFeedback, CommandRobotiqGripperResult, CommandRobotiqGripperAction, CommandRobotiqGripperGoal\n",
    "from robotiq_2f_gripper_control.robotiq_2f_gripper_driver import Robotiq2FingerGripperDriver as Robotiq\n",
    "from geometry_msgs.msg import WrenchStamped"
   ]
  },
  {
   "cell_type": "code",
   "execution_count": 2,
   "metadata": {},
   "outputs": [],
   "source": [
    "#Connect to gripper\n",
    "# gripper_pub = rospy.Publisher('Robotiq2FGripperRobotOutput', outputMsg.Robotiq2FGripper_robot_output, queue_size=10)\n",
    "# arduino_pub1 = rospy.Publisher('/dac1', UInt16, queue_size=1)\n",
    "# rospy.sleep(0.5)\n",
    "# arduino_pub2 = rospy.Publisher('/dac2', UInt16, queue_size=1)\n",
    "# rospy.sleep(0.5)\n",
    "#Connect to UR robot\n",
    "#robHong = urx.Robot(\"192.168.1.102\")\n",
    "arduino_pub1 = rospy.Publisher('/dac1', UInt16, queue_size=1)\n",
    "arduino_pub2 = rospy.Publisher('/dac2', UInt16, queue_size=1)\n",
    "servo_pub = rospy.Publisher('/servo', UInt16, queue_size=10)\n",
    "rospy.sleep(0.5)\n",
    "# robKong = urx.Robot('192.168.1.10')\n",
    "# robHong = urx.Robot('192.168.1.102')\n",
    "# rospy.init_node('sub_pub',anonymous=True)\n",
    "rospy.init_node('picking_acrylic_board', anonymous=True)\n",
    "logging.basicConfig(level=logging.WARN)\n",
    "# action_name = 'command_robotiq_action'\n",
    "# robotiq_client = actionlib.SimpleActionClient(action_name, CommandRobotiqGripperAction)\n",
    "# robotiq_client.wait_for_server()\n",
    "rospy.sleep(0.5)\n",
    "listener = tf.TransformListener()"
   ]
  },
  {
   "cell_type": "code",
   "execution_count": 5,
   "metadata": {},
   "outputs": [],
   "source": [
    "rospy.sleep(1)\n",
    "tag_pose_x1 = 0\n",
    "tag_pose_y1 = 0\n",
    "tag_angle1 = 0\n",
    "is_send_tag1=0\n",
    "# tag_topic1 = '/cam2/tag_detections'\n",
    "tag_topic1 = '/tag_detections'\n",
    "#Robot motion speed percentage (0.5 ~ 3.0)\n",
    "\n",
    "def kong_approach_the_object(a):\n",
    "\n",
    "    global is_send_tag1\n",
    "    is_send_tag1=int(a)    \n",
    "    \n",
    "def kong_detect_the_object(a, num1):\n",
    "    \n",
    "    global is_send_tag1\n",
    "    global num\n",
    "    num=int(num1)\n",
    "    is_send_tag1=int(a)       \n",
    "    \n",
    "def kong_tag_callback(msg):\n",
    "    global is_send_tag1\n",
    "    global tag_pose_x1\n",
    "    global tag_pose_y1\n",
    "    global tag_pose_z1\n",
    "    global tag_angle1\n",
    "    global num\n",
    "\n",
    "#     if is_send_tag1 == 1:\n",
    "#         (camPttag, camRttag) = listener.lookupTransform('/soft_camera_frame', '/april_tag_frame_id'+num, rospy.Time(0))\n",
    "#         tag_orientation1 = msg.detections[0].pose.pose.pose.orientation\n",
    "#         rpy = euler_from_quaternion([tag_orientation1.x, tag_orientation1.y, tag_orientation1.z, tag_orientation1.w])\n",
    "#         tag_angle1 = rpy[2]\n",
    "#         tag_pose_x1 = msg.detections[0].pose.pose.pose.position.x\n",
    "#         tag_pose_y1 = msg.detections[0].pose.pose.pose.position.y\n",
    "#         tag_pose_z1 = msg.detections[0].pose.pose.pose.position.z\n",
    "#         rospy.sleep(1)\n",
    "#         print 'tag_x = ', tag_pose_x1, ',tag_y = ', tag_pose_y1, ',tag_z- ',tag_pose_z1, ',tag angle = ', tag_angle1/ 3.14159296 * 180\n",
    "#         rospy.sleep(1)\n",
    "#         robKong.translate_tool((-tag_pose_x1, -tag_pose_y1, 0), acc=0.1, vel=0.1, wait=True)\n",
    "#         is_send_tag1=0\n",
    "\n",
    "    if is_send_tag1 == 2:\n",
    "        listener.waitForTransform('/camera','/apriltag_frame_'+str(num),rospy.Time(),rospy.Duration())\n",
    "        (camPttag, camRttag) = listener.lookupTransform('/camera', '/apriltag_frame_'+str(num), rospy.Time(0))\n",
    "        print(camPttag)\n",
    "        is_send_tag1=0\n",
    "#         tag_orientation1 = msg.detections[0].pose.pose.pose.orientation\n",
    "#         rpy = euler_from_quaternion([tag_orientation1.x, tag_orientation1.y, tag_orientation1.z, tag_orientation1.w])\n",
    "#         tag_angle1 = rpy[2]\n",
    "#         tag_pose_x1 = msg.detections[0].pose.pose.pose.position.x\n",
    "#         tag_pose_y1 = msg.detections[0].pose.pose.pose.position.y\n",
    "#         tag_pose_z1 = msg.detections[0].pose.pose.pose.position.z\n",
    "#         rospy.sleep(1)\n",
    "#         print 'tag_x = ', tag_pose_x1, ',tag_y = ', tag_pose_y1, ',tag_z- ',tag_pose_z1, ',tag angle = ', tag_angle1/ 3.14159296 * 180\n",
    "#         is_send_tag1=0\n"
   ]
  },
  {
   "cell_type": "code",
   "execution_count": 6,
   "metadata": {},
   "outputs": [
    {
     "data": {
      "text/plain": [
       "<rospy.topics.Subscriber at 0x7f13aae6b450>"
      ]
     },
     "execution_count": 6,
     "metadata": {},
     "output_type": "execute_result"
    }
   ],
   "source": [
    "rospy.Subscriber(tag_topic1, AprilTagDetectionArray, kong_tag_callback, queue_size=10)"
   ]
  },
  {
   "cell_type": "code",
   "execution_count": 7,
   "metadata": {},
   "outputs": [
    {
     "name": "stdout",
     "output_type": "stream",
     "text": [
      "[-0.018544836493930718, 0.05037459661845592, 0.2635540815820593]\n"
     ]
    }
   ],
   "source": [
    "kong_detect_the_object(2,0)"
   ]
  }
 ],
 "metadata": {
  "kernelspec": {
   "display_name": "py27",
   "language": "python",
   "name": "py27"
  },
  "language_info": {
   "codemirror_mode": {
    "name": "ipython",
    "version": 2
   },
   "file_extension": ".py",
   "mimetype": "text/x-python",
   "name": "python",
   "nbconvert_exporter": "python",
   "pygments_lexer": "ipython2",
   "version": "2.7.18"
  }
 },
 "nbformat": 4,
 "nbformat_minor": 4
}
